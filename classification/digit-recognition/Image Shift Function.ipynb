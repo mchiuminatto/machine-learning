{
 "cells": [
  {
   "cell_type": "code",
   "execution_count": 1,
   "id": "a2eb7a4a-df68-4b57-a3ac-ec0aa7dcea96",
   "metadata": {},
   "outputs": [],
   "source": [
    "import pandas as pd\n",
    "import numpy as np\n",
    "import matplotlib as mpl\n",
    "%run utils.py"
   ]
  },
  {
   "cell_type": "code",
   "execution_count": 2,
   "id": "45907532-caf4-42b8-80ac-05b03141fa5d",
   "metadata": {},
   "outputs": [
    {
     "data": {
      "text/plain": [
       "dict_keys(['data', 'target', 'frame', 'categories', 'feature_names', 'target_names', 'DESCR', 'details', 'url'])"
      ]
     },
     "execution_count": 2,
     "metadata": {},
     "output_type": "execute_result"
    }
   ],
   "source": [
    "from sklearn.datasets import fetch_openml\n",
    "mnist = fetch_openml('mnist_784', version=1, as_frame=False, parser=\"auto\")\n",
    "mnist.keys()"
   ]
  },
  {
   "cell_type": "code",
   "execution_count": 11,
   "id": "187b9d8f-c093-4c91-b854-76332bbb7fcb",
   "metadata": {},
   "outputs": [
    {
     "data": {
      "text/plain": [
       "28.0"
      ]
     },
     "execution_count": 11,
     "metadata": {},
     "output_type": "execute_result"
    }
   ],
   "source": [
    "np.sqrt(len(mnist[\"data\"][0]))"
   ]
  },
  {
   "cell_type": "code",
   "execution_count": 13,
   "id": "c6aa275a-0a79-412b-9dd8-dc484eae1fb3",
   "metadata": {},
   "outputs": [
    {
     "data": {
      "text/plain": [
       "array([[  0,   0,   0,   0,   0,   0,   0,   0,   0,   0,   0,   0,   0,\n",
       "          0,   0,   0,   0,   0,   0,   0,   0,   0,   0,   0,   0,   0,\n",
       "          0,   0],\n",
       "       [  0,   0,   0,   0,   0,   0,   0,   0,   0,   0,   0,   0,   0,\n",
       "          0,   0,   0,   0,   0,   0,   0,   0,   0,   0,   0,   0,   0,\n",
       "          0,   0],\n",
       "       [  0,   0,   0,   0,   0,   0,   0,   0,   0,   0,   0,   0,   0,\n",
       "          0,   0,   0,   0,   0,   0,   0,   0,   0,   0,   0,   0,   0,\n",
       "          0,   0],\n",
       "       [  0,   0,   0,   0,   0,   0,   0,   0,   0,   0,   0,   0,   0,\n",
       "          0,   0,   0,   0,   0,   0,   0,   0,   0,   0,   0,   0,   0,\n",
       "          0,   0],\n",
       "       [  0,   0,   0,   0,   0,   0,   0,   0,   0,   0,   0,   0,   0,\n",
       "          0,   0,   0,   0,   0,   0,   0,   0,   0,   0,   0,   0,   0,\n",
       "          0,   0],\n",
       "       [  0,   0,   0,   0,   0,   0,   0,   0,   0,   0,   0,   0,   3,\n",
       "         18,  18,  18, 126, 136, 175,  26, 166, 255, 247, 127,   0,   0,\n",
       "          0,   0],\n",
       "       [  0,   0,   0,   0,   0,   0,   0,   0,  30,  36,  94, 154, 170,\n",
       "        253, 253, 253, 253, 253, 225, 172, 253, 242, 195,  64,   0,   0,\n",
       "          0,   0],\n",
       "       [  0,   0,   0,   0,   0,   0,   0,  49, 238, 253, 253, 253, 253,\n",
       "        253, 253, 253, 253, 251,  93,  82,  82,  56,  39,   0,   0,   0,\n",
       "          0,   0],\n",
       "       [  0,   0,   0,   0,   0,   0,   0,  18, 219, 253, 253, 253, 253,\n",
       "        253, 198, 182, 247, 241,   0,   0,   0,   0,   0,   0,   0,   0,\n",
       "          0,   0],\n",
       "       [  0,   0,   0,   0,   0,   0,   0,   0,  80, 156, 107, 253, 253,\n",
       "        205,  11,   0,  43, 154,   0,   0,   0,   0,   0,   0,   0,   0,\n",
       "          0,   0],\n",
       "       [  0,   0,   0,   0,   0,   0,   0,   0,   0,  14,   1, 154, 253,\n",
       "         90,   0,   0,   0,   0,   0,   0,   0,   0,   0,   0,   0,   0,\n",
       "          0,   0],\n",
       "       [  0,   0,   0,   0,   0,   0,   0,   0,   0,   0,   0, 139, 253,\n",
       "        190,   2,   0,   0,   0,   0,   0,   0,   0,   0,   0,   0,   0,\n",
       "          0,   0],\n",
       "       [  0,   0,   0,   0,   0,   0,   0,   0,   0,   0,   0,  11, 190,\n",
       "        253,  70,   0,   0,   0,   0,   0,   0,   0,   0,   0,   0,   0,\n",
       "          0,   0],\n",
       "       [  0,   0,   0,   0,   0,   0,   0,   0,   0,   0,   0,   0,  35,\n",
       "        241, 225, 160, 108,   1,   0,   0,   0,   0,   0,   0,   0,   0,\n",
       "          0,   0],\n",
       "       [  0,   0,   0,   0,   0,   0,   0,   0,   0,   0,   0,   0,   0,\n",
       "         81, 240, 253, 253, 119,  25,   0,   0,   0,   0,   0,   0,   0,\n",
       "          0,   0],\n",
       "       [  0,   0,   0,   0,   0,   0,   0,   0,   0,   0,   0,   0,   0,\n",
       "          0,  45, 186, 253, 253, 150,  27,   0,   0,   0,   0,   0,   0,\n",
       "          0,   0],\n",
       "       [  0,   0,   0,   0,   0,   0,   0,   0,   0,   0,   0,   0,   0,\n",
       "          0,   0,  16,  93, 252, 253, 187,   0,   0,   0,   0,   0,   0,\n",
       "          0,   0],\n",
       "       [  0,   0,   0,   0,   0,   0,   0,   0,   0,   0,   0,   0,   0,\n",
       "          0,   0,   0,   0, 249, 253, 249,  64,   0,   0,   0,   0,   0,\n",
       "          0,   0],\n",
       "       [  0,   0,   0,   0,   0,   0,   0,   0,   0,   0,   0,   0,   0,\n",
       "          0,  46, 130, 183, 253, 253, 207,   2,   0,   0,   0,   0,   0,\n",
       "          0,   0],\n",
       "       [  0,   0,   0,   0,   0,   0,   0,   0,   0,   0,   0,   0,  39,\n",
       "        148, 229, 253, 253, 253, 250, 182,   0,   0,   0,   0,   0,   0,\n",
       "          0,   0],\n",
       "       [  0,   0,   0,   0,   0,   0,   0,   0,   0,   0,  24, 114, 221,\n",
       "        253, 253, 253, 253, 201,  78,   0,   0,   0,   0,   0,   0,   0,\n",
       "          0,   0],\n",
       "       [  0,   0,   0,   0,   0,   0,   0,   0,  23,  66, 213, 253, 253,\n",
       "        253, 253, 198,  81,   2,   0,   0,   0,   0,   0,   0,   0,   0,\n",
       "          0,   0],\n",
       "       [  0,   0,   0,   0,   0,   0,  18, 171, 219, 253, 253, 253, 253,\n",
       "        195,  80,   9,   0,   0,   0,   0,   0,   0,   0,   0,   0,   0,\n",
       "          0,   0],\n",
       "       [  0,   0,   0,   0,  55, 172, 226, 253, 253, 253, 253, 244, 133,\n",
       "         11,   0,   0,   0,   0,   0,   0,   0,   0,   0,   0,   0,   0,\n",
       "          0,   0],\n",
       "       [  0,   0,   0,   0, 136, 253, 253, 253, 212, 135, 132,  16,   0,\n",
       "          0,   0,   0,   0,   0,   0,   0,   0,   0,   0,   0,   0,   0,\n",
       "          0,   0],\n",
       "       [  0,   0,   0,   0,   0,   0,   0,   0,   0,   0,   0,   0,   0,\n",
       "          0,   0,   0,   0,   0,   0,   0,   0,   0,   0,   0,   0,   0,\n",
       "          0,   0],\n",
       "       [  0,   0,   0,   0,   0,   0,   0,   0,   0,   0,   0,   0,   0,\n",
       "          0,   0,   0,   0,   0,   0,   0,   0,   0,   0,   0,   0,   0,\n",
       "          0,   0],\n",
       "       [  0,   0,   0,   0,   0,   0,   0,   0,   0,   0,   0,   0,   0,\n",
       "          0,   0,   0,   0,   0,   0,   0,   0,   0,   0,   0,   0,   0,\n",
       "          0,   0]])"
      ]
     },
     "execution_count": 13,
     "metadata": {},
     "output_type": "execute_result"
    }
   ],
   "source": [
    "mnist[\"data\"][0].reshape(28, 28)"
   ]
  },
  {
   "cell_type": "code",
   "execution_count": 4,
   "id": "7a22874d-fb8d-4850-afb3-58d7b2583f4d",
   "metadata": {},
   "outputs": [],
   "source": [
    "DIRECTION_MAP: dict = {\n",
    "    \"UP\":{\"direction\": -1, \"axis\":0},\n",
    "    \"DOWN\":{\"direction\": 1, \"axis\":0},\n",
    "    \"LEFT\":{\"direction\": -1, \"axis\":1},\n",
    "    \"RIGHT\":{\"direction\": 1, \"axis\":1}\n",
    "}\n",
    "def shift_image(image_vector: np.array, direction: str, steps: int, resolution_x: int, resolution_y: int):\n",
    "\n",
    "    direction_upper: str = direction.upper()\n",
    "\n",
    "    if len(image_vector) != resolution_x*resolution_y:\n",
    "        raise ValueError(f\"Vector elements {len(image_vector)} differs from intended reshape {resolution_x*resolution_y}\")\n",
    "\n",
    "    M1 = image_vector.reshape(resolution_x, resolution_y)\n",
    "    M1 = np.roll(M1, steps*DIRECTION_MAP[direction_upper][\"direction\"], DIRECTION_MAP[direction_upper][\"axis\"])\n",
    "\n",
    "    return M1.reshape(-1)\n",
    "\n",
    "def shift_digits(mnist: np.array):\n",
    "    augmented_digits: list = []\n",
    "    augmented_targets: list = []\n",
    "\n",
    "    for position in range(len(mnist.data)):\n",
    "        digit = mnist[\"data\"][position]\n",
    "        digit_up = shift_image(digit, \"up\", 1, 28,28)\n",
    "        digit_down = shift_image(digit, \"down\", 1, 28,28)\n",
    "        digit_left = shift_image(digit, \"left\", 1, 28,28)\n",
    "        digit_right = shift_image(digit, \"right\", 1, 28,28)\n",
    "        target = mnist[\"target\"][position]\n",
    "        augmented_digits += [digit_up, digit_down, digit_left, digit_right]\n",
    "        augmented_targets += [target]*4\n",
    "    return augmented_digits, augmented_targets\n"
   ]
  },
  {
   "cell_type": "markdown",
   "id": "e66f39b9-4995-4527-b2eb-3b915ede912a",
   "metadata": {},
   "source": [
    "## Tests"
   ]
  },
  {
   "cell_type": "code",
   "execution_count": 126,
   "id": "e4820fd0-a1a8-44da-b62b-290d19e0e822",
   "metadata": {},
   "outputs": [
    {
     "data": {
      "text/plain": [
       "(-0.5, 27.5, 27.5, -0.5)"
      ]
     },
     "execution_count": 126,
     "metadata": {},
     "output_type": "execute_result"
    },
    {
     "data": {
      "image/png": "[encoded data removed]",
      "text/plain": [
       "<Figure size 640x480 with 1 Axes>"
      ]
     },
     "metadata": {},
     "output_type": "display_data"
    }
   ],
   "source": [
    "digit = mnist[\"data\"][0]\n",
    "plt.imshow(digit.reshape(28,28), cmap=mpl.cm.binary)\n",
    "plt.axis(\"off\")"
   ]
  },
  {
   "cell_type": "code",
   "execution_count": 127,
   "id": "b0a19282-1c2f-4e33-a74c-454ee1d0527d",
   "metadata": {},
   "outputs": [
    {
     "data": {
      "text/plain": [
       "(-0.5, 27.5, 27.5, -0.5)"
      ]
     },
     "execution_count": 127,
     "metadata": {},
     "output_type": "execute_result"
    },
    {
     "data": {
      "image/png": "[encoded data removed]",
      "text/plain": [
       "<Figure size 640x480 with 1 Axes>"
      ]
     },
     "metadata": {},
     "output_type": "display_data"
    }
   ],
   "source": [
    "digit_2 = shift_image(digit, \"down\", 10, 28,28)\n",
    "plt.imshow(digit_2.reshape(28,28), cmap=mpl.cm.binary)\n",
    "plt.axis(\"off\")"
   ]
  },
  {
   "cell_type": "code",
   "execution_count": 128,
   "id": "0297b367-ece6-47a5-9237-6de5b7aa0b39",
   "metadata": {},
   "outputs": [
    {
     "data": {
      "text/plain": [
       "(-0.5, 27.5, 27.5, -0.5)"
      ]
     },
     "execution_count": 128,
     "metadata": {},
     "output_type": "execute_result"
    },
    {
     "data": {
      "image/png": "[encoded data removed]",
      "text/plain": [
       "<Figure size 640x480 with 1 Axes>"
      ]
     },
     "metadata": {},
     "output_type": "display_data"
    }
   ],
   "source": [
    "digit_2 = shift_image(digit, \"right\", 10, 28,28)\n",
    "plt.imshow(digit_2.reshape(28,28), cmap=mpl.cm.binary)\n",
    "plt.axis(\"off\")"
   ]
  },
  {
   "cell_type": "code",
   "execution_count": 26,
   "id": "a5646498-552b-4d5c-8ad0-55624ea787ed",
   "metadata": {},
   "outputs": [
    {
     "data": {
      "text/plain": [
       "dict_keys(['data', 'target', 'frame', 'categories', 'feature_names', 'target_names', 'DESCR', 'details', 'url'])"
      ]
     },
     "execution_count": 26,
     "metadata": {},
     "output_type": "execute_result"
    }
   ],
   "source": [
    "mnist = fetch_openml('mnist_784', version=1, as_frame=False, parser=\"auto\")\n",
    "mnist.keys()"
   ]
  },
  {
   "cell_type": "code",
   "execution_count": 27,
   "id": "e5d2f53f-3257-47fe-932a-cb74e317e467",
   "metadata": {},
   "outputs": [],
   "source": [
    "new_digits, new_targets = shift_digits(mnist)\n",
    "mnist.data = np.append(mnist.data, np.array(new_digits), axis=0)\n",
    "mnist.target = np.append(mnist.target, np.array(new_targets), axis=0)"
   ]
  },
  {
   "cell_type": "code",
   "execution_count": 28,
   "id": "b8e55dcc-fcc3-4693-8e38-c511b921246b",
   "metadata": {},
   "outputs": [
    {
     "data": {
      "text/plain": [
       "(350000, 350000)"
      ]
     },
     "execution_count": 28,
     "metadata": {},
     "output_type": "execute_result"
    }
   ],
   "source": [
    "len(mnist.data), len(mnist.target)"
   ]
  },
  {
   "cell_type": "code",
   "execution_count": 16,
   "id": "45572d70-622f-4e95-b147-b2ebff373849",
   "metadata": {},
   "outputs": [],
   "source": [
    "mnist.targets = np.append(mnist.target, np.array(new_targets), axis=0)"
   ]
  },
  {
   "cell_type": "code",
   "execution_count": 17,
   "id": "ce569ab2-35ef-4da9-a072-a539731f6611",
   "metadata": {},
   "outputs": [
    {
     "data": {
      "text/plain": [
       "350000"
      ]
     },
     "execution_count": 17,
     "metadata": {},
     "output_type": "execute_result"
    }
   ],
   "source": [
    "len(mnist.targets)"
   ]
  },
  {
   "cell_type": "markdown",
   "id": "c7e4aa72-9d5c-4d6d-b907-37dca8bc8bb5",
   "metadata": {},
   "source": [
    "## Numpy Roll Test"
   ]
  },
  {
   "cell_type": "code",
   "execution_count": 130,
   "id": "baf83308-22ac-4e65-b62c-85518f0deb13",
   "metadata": {},
   "outputs": [
    {
     "data": {
      "text/plain": [
       "[2, 2, 2, 2]"
      ]
     },
     "execution_count": 130,
     "metadata": {},
     "output_type": "execute_result"
    }
   ],
   "source": [
    "[2]*4"
   ]
  },
  {
   "cell_type": "code",
   "execution_count": 95,
   "id": "d2e75b58-7a1d-420e-b511-427ce5cd2735",
   "metadata": {},
   "outputs": [],
   "source": [
    "M = np.zeros((3,3))"
   ]
  },
  {
   "cell_type": "code",
   "execution_count": 96,
   "id": "d989edbc-a717-440a-8491-47a1d1a0ea89",
   "metadata": {},
   "outputs": [],
   "source": [
    "M[0] = 1"
   ]
  },
  {
   "cell_type": "code",
   "execution_count": 19,
   "id": "7959a0d4-e2a0-4199-8665-4e9318e1703e",
   "metadata": {},
   "outputs": [
    {
     "data": {
      "text/plain": [
       "array([[1., 1., 1.],\n",
       "       [0., 0., 0.],\n",
       "       [0., 0., 0.]])"
      ]
     },
     "execution_count": 19,
     "metadata": {},
     "output_type": "execute_result"
    }
   ],
   "source": [
    "M"
   ]
  },
  {
   "cell_type": "code",
   "execution_count": 23,
   "id": "be03557f-4daf-43a9-8f3e-4fe3004e7bb0",
   "metadata": {},
   "outputs": [
    {
     "data": {
      "text/plain": [
       "array([[0., 0., 0.],\n",
       "       [0., 0., 0.],\n",
       "       [1., 1., 1.]])"
      ]
     },
     "execution_count": 23,
     "metadata": {},
     "output_type": "execute_result"
    }
   ],
   "source": [
    "np.roll(M, -1, axis=0)"
   ]
  },
  {
   "cell_type": "code",
   "execution_count": 24,
   "id": "83439c8f-c3c9-4bdc-82b0-ecfd1d2afb53",
   "metadata": {},
   "outputs": [],
   "source": [
    "M = np.zeros((3,3))\n",
    "M[:,0] = 1"
   ]
  },
  {
   "cell_type": "code",
   "execution_count": 30,
   "id": "c9e8136d-0740-434c-9622-ab4ae9349279",
   "metadata": {},
   "outputs": [],
   "source": [
    "M[:,0] = 1"
   ]
  },
  {
   "cell_type": "code",
   "execution_count": 31,
   "id": "85d03f9b-a5f8-4be2-a706-7e034d7919c5",
   "metadata": {},
   "outputs": [
    {
     "data": {
      "text/plain": [
       "array([[1., 0., 0.],\n",
       "       [1., 0., 0.],\n",
       "       [1., 0., 0.]])"
      ]
     },
     "execution_count": 31,
     "metadata": {},
     "output_type": "execute_result"
    }
   ],
   "source": [
    "M"
   ]
  },
  {
   "cell_type": "code",
   "execution_count": 33,
   "id": "ef5c182d-2141-4936-94bc-bcc2db19ba35",
   "metadata": {},
   "outputs": [
    {
     "data": {
      "text/plain": [
       "array([[0., 1., 0.],\n",
       "       [0., 1., 0.],\n",
       "       [0., 1., 0.]])"
      ]
     },
     "execution_count": 33,
     "metadata": {},
     "output_type": "execute_result"
    }
   ],
   "source": [
    "np.roll(M, 1, axis=1)"
   ]
  },
  {
   "cell_type": "code",
   "execution_count": 34,
   "id": "096067dc-4aaf-4bda-8da3-b89d52098a4e",
   "metadata": {},
   "outputs": [
    {
     "data": {
      "text/plain": [
       "array([[0., 0., 1.],\n",
       "       [0., 0., 1.],\n",
       "       [0., 0., 1.]])"
      ]
     },
     "execution_count": 34,
     "metadata": {},
     "output_type": "execute_result"
    }
   ],
   "source": [
    "np.roll(M, -1, axis=1)"
   ]
  },
  {
   "cell_type": "code",
   "execution_count": 80,
   "id": "af4c2a8a-ada3-45cd-8815-52f13ad16e93",
   "metadata": {},
   "outputs": [],
   "source": [
    "\n",
    "    \n",
    "    \n",
    "\n"
   ]
  },
  {
   "cell_type": "code",
   "execution_count": 69,
   "id": "1c6ebb76-190b-4c95-bc63-efc9079cd6a8",
   "metadata": {},
   "outputs": [
    {
     "ename": "ValueError",
     "evalue": "Vector elements 9 differs from intended reshape 12",
     "output_type": "error",
     "traceback": [
      "\u001b[0;31m---------------------------------------------------------------------------\u001b[0m",
      "\u001b[0;31mValueError\u001b[0m                                Traceback (most recent call last)",
      "Cell \u001b[0;32mIn[69], line 1\u001b[0m\n\u001b[0;32m----> 1\u001b[0m \u001b[43mshift_image\u001b[49m\u001b[43m(\u001b[49m\u001b[43mnp\u001b[49m\u001b[38;5;241;43m.\u001b[39;49m\u001b[43mzeros\u001b[49m\u001b[43m(\u001b[49m\u001b[38;5;241;43m9\u001b[39;49m\u001b[43m)\u001b[49m\u001b[43m,\u001b[49m\u001b[43m \u001b[49m\u001b[38;5;124;43m\"\u001b[39;49m\u001b[38;5;124;43mup\u001b[39;49m\u001b[38;5;124;43m\"\u001b[39;49m\u001b[43m,\u001b[49m\u001b[43m \u001b[49m\u001b[38;5;241;43m1\u001b[39;49m\u001b[43m,\u001b[49m\u001b[43m \u001b[49m\u001b[38;5;241;43m4\u001b[39;49m\u001b[43m,\u001b[49m\u001b[43m \u001b[49m\u001b[38;5;241;43m3\u001b[39;49m\u001b[43m)\u001b[49m\n",
      "Cell \u001b[0;32mIn[68], line 12\u001b[0m, in \u001b[0;36mshift_image\u001b[0;34m(image_vector, direction, steps, resolution_x, resolution_y)\u001b[0m\n\u001b[1;32m      9\u001b[0m direction_upper: \u001b[38;5;28mstr\u001b[39m \u001b[38;5;241m=\u001b[39m direction\u001b[38;5;241m.\u001b[39mupper()\n\u001b[1;32m     11\u001b[0m \u001b[38;5;28;01mif\u001b[39;00m \u001b[38;5;28mlen\u001b[39m(image_vector) \u001b[38;5;241m!=\u001b[39m resolution_x\u001b[38;5;241m*\u001b[39mresolution_y:\n\u001b[0;32m---> 12\u001b[0m     \u001b[38;5;28;01mraise\u001b[39;00m \u001b[38;5;167;01mValueError\u001b[39;00m(\u001b[38;5;124mf\u001b[39m\u001b[38;5;124m\"\u001b[39m\u001b[38;5;124mVector elements \u001b[39m\u001b[38;5;132;01m{\u001b[39;00m\u001b[38;5;28mlen\u001b[39m(image_vector)\u001b[38;5;132;01m}\u001b[39;00m\u001b[38;5;124m differs from intended reshape \u001b[39m\u001b[38;5;132;01m{\u001b[39;00mresolution_x\u001b[38;5;241m*\u001b[39mresolution_y\u001b[38;5;132;01m}\u001b[39;00m\u001b[38;5;124m\"\u001b[39m)\n\u001b[1;32m     14\u001b[0m M1 \u001b[38;5;241m=\u001b[39m image_vector\u001b[38;5;241m.\u001b[39mreshape(resolution_x, resolution_y)\n\u001b[1;32m     15\u001b[0m \u001b[38;5;28;01mreturn\u001b[39;00m np\u001b[38;5;241m.\u001b[39mroll(M1, steps\u001b[38;5;241m*\u001b[39mDIRECTION_MAP[direction_upper][\u001b[38;5;124m\"\u001b[39m\u001b[38;5;124mdirection\u001b[39m\u001b[38;5;124m\"\u001b[39m], DIRECTION_MAP[direction_upper][\u001b[38;5;124m\"\u001b[39m\u001b[38;5;124maxis\u001b[39m\u001b[38;5;124m\"\u001b[39m])\n",
      "\u001b[0;31mValueError\u001b[0m: Vector elements 9 differs from intended reshape 12"
     ]
    }
   ],
   "source": [
    "shift_image(np.zeros(9), \"up\", 1, 4, 3)"
   ]
  },
  {
   "cell_type": "code",
   "execution_count": 70,
   "id": "15ca4979-5307-46db-a94f-959c196bdfc0",
   "metadata": {},
   "outputs": [
    {
     "data": {
      "text/plain": [
       "array([[0., 0., 0.],\n",
       "       [0., 0., 0.],\n",
       "       [0., 0., 0.]])"
      ]
     },
     "execution_count": 70,
     "metadata": {},
     "output_type": "execute_result"
    }
   ],
   "source": [
    "shift_image(np.zeros(9), \"up\", 1, 3,3)"
   ]
  },
  {
   "cell_type": "code",
   "execution_count": 71,
   "id": "cac73dd8-2509-44c1-927d-c22ed414d597",
   "metadata": {},
   "outputs": [
    {
     "data": {
      "text/plain": [
       "array([1., 0., 0., 1., 0., 0., 1., 0., 0.])"
      ]
     },
     "execution_count": 71,
     "metadata": {},
     "output_type": "execute_result"
    }
   ],
   "source": [
    "M = np.zeros((3,3))\n",
    "M[:,0] = 1\n",
    "M = M.reshape(-1)\n",
    "M"
   ]
  },
  {
   "cell_type": "code",
   "execution_count": 72,
   "id": "dda85869-08d6-44b0-b147-8d4c245d01ae",
   "metadata": {},
   "outputs": [
    {
     "data": {
      "text/plain": [
       "array([[1., 0., 0.],\n",
       "       [1., 0., 0.],\n",
       "       [1., 0., 0.]])"
      ]
     },
     "execution_count": 72,
     "metadata": {},
     "output_type": "execute_result"
    }
   ],
   "source": [
    "shift_image(M, \"up\", 1, 3,3)"
   ]
  },
  {
   "cell_type": "code",
   "execution_count": 73,
   "id": "d2b53be8-0b21-4747-baa7-0f3025454a74",
   "metadata": {},
   "outputs": [
    {
     "data": {
      "text/plain": [
       "array([[0., 0., 1.],\n",
       "       [0., 0., 1.],\n",
       "       [0., 0., 1.]])"
      ]
     },
     "execution_count": 73,
     "metadata": {},
     "output_type": "execute_result"
    }
   ],
   "source": [
    "shift_image(M, \"left\", 1, 3,3)"
   ]
  },
  {
   "cell_type": "code",
   "execution_count": 74,
   "id": "a744f729-025b-4c66-a799-b568df9641bf",
   "metadata": {},
   "outputs": [
    {
     "data": {
      "text/plain": [
       "array([[0., 1., 0.],\n",
       "       [0., 1., 0.],\n",
       "       [0., 1., 0.]])"
      ]
     },
     "execution_count": 74,
     "metadata": {},
     "output_type": "execute_result"
    }
   ],
   "source": [
    "shift_image(M, \"right\", 1, 3,3)"
   ]
  },
  {
   "cell_type": "code",
   "execution_count": 75,
   "id": "eae6440d-bf15-4231-b758-7d9db76e81cd",
   "metadata": {},
   "outputs": [
    {
     "data": {
      "text/plain": [
       "array([[1., 1., 1.],\n",
       "       [0., 0., 0.],\n",
       "       [0., 0., 0.]])"
      ]
     },
     "execution_count": 75,
     "metadata": {},
     "output_type": "execute_result"
    }
   ],
   "source": [
    "M = np.zeros((3,3))\n",
    "M[0] = 1\n",
    "M"
   ]
  },
  {
   "cell_type": "code",
   "execution_count": 78,
   "id": "1fad9dac-177c-4178-aad5-6bb254dc2a44",
   "metadata": {},
   "outputs": [
    {
     "data": {
      "text/plain": [
       "array([[0., 0., 0.],\n",
       "       [1., 1., 1.],\n",
       "       [0., 0., 0.]])"
      ]
     },
     "execution_count": 78,
     "metadata": {},
     "output_type": "execute_result"
    }
   ],
   "source": [
    "shift_image(M.reshape(-1), \"DOWN\", 1, 3,3)"
   ]
  },
  {
   "cell_type": "code",
   "execution_count": 79,
   "id": "6ece1f9c-9e9a-48c6-9898-af62d5f60cdf",
   "metadata": {},
   "outputs": [
    {
     "data": {
      "text/plain": [
       "array([[0., 0., 0.],\n",
       "       [0., 0., 0.],\n",
       "       [1., 1., 1.]])"
      ]
     },
     "execution_count": 79,
     "metadata": {},
     "output_type": "execute_result"
    }
   ],
   "source": [
    "shift_image(M.reshape(-1), \"UP\", 1, 3,3)"
   ]
  },
  {
   "cell_type": "code",
   "execution_count": null,
   "id": "39d3ab27-0011-4c10-8c9b-5e5278e9f4ed",
   "metadata": {},
   "outputs": [],
   "source": []
  },
  {
   "cell_type": "code",
   "execution_count": null,
   "id": "44fc54a4-e85b-4ef5-8309-bb49026d9ccb",
   "metadata": {},
   "outputs": [],
   "source": []
  },
  {
   "cell_type": "code",
   "execution_count": null,
   "id": "5416a7f2-6e75-4d69-81d1-be42a5ded012",
   "metadata": {},
   "outputs": [],
   "source": []
  }
 ],
 "metadata": {
  "kernelspec": {
   "display_name": "Python 3 (ipykernel)",
   "language": "python",
   "name": "python3"
  },
  "language_info": {
   "codemirror_mode": {
    "name": "ipython",
    "version": 3
   },
   "file_extension": ".py",
   "mimetype": "text/x-python",
   "name": "python",
   "nbconvert_exporter": "python",
   "pygments_lexer": "ipython3",
   "version": "3.10.6"
  }
 },
 "nbformat": 4,
 "nbformat_minor": 5
}
